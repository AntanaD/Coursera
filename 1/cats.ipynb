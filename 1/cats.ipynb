{
 "cells": [
  {
   "cell_type": "code",
   "execution_count": 14,
   "metadata": {
    "collapsed": true
   },
   "outputs": [],
   "source": [
    "import re\n",
    "sentences = open('sentences.txt', 'r')\n",
    "list_sent = list(sentences)\n",
    "for line in list_sent:\n",
    "    line = line.lower()"
   ]
  },
  {
   "cell_type": "code",
   "execution_count": 12,
   "metadata": {
    "collapsed": true
   },
   "outputs": [],
   "source": [
    "res = []\n",
    "for line in list_sent:\n",
    "    res.append(filter(lambda x: x != '', re.split('[^a-z]', line)))"
   ]
  },
  {
   "cell_type": "code",
   "execution_count": 13,
   "metadata": {
    "collapsed": true
   },
   "outputs": [],
   "source": [
    "words = []\n",
    "for i in range(0, len(res)):\n",
    "    for j in range(0, len(res[i])):\n",
    "        words.append(res[i][j])\n",
    "words1 = list(list(set(words)))"
   ]
  },
  {
   "cell_type": "code",
   "execution_count": 5,
   "metadata": {
    "collapsed": true
   },
   "outputs": [],
   "source": [
    "dct = dict(zip(range(len(words1)), words1))"
   ]
  },
  {
   "cell_type": "code",
   "execution_count": 6,
   "metadata": {
    "collapsed": true
   },
   "outputs": [],
   "source": [
    "matrix = [[0] * len(words1) for i in range(len(result))]\n",
    "for i in range(0, len(res)):\n",
    "    for j in range(0, len(words1)):\n",
    "        matrix[i][j] = res[i].count(words1[j])\n",
    "#каждому слову words1[j] сопоставляем количество вхождений в предложение result[i]"
   ]
  },
  {
   "cell_type": "code",
   "execution_count": 7,
   "metadata": {
    "collapsed": false
   },
   "outputs": [
    {
     "name": "stdout",
     "output_type": "stream",
     "text": [
      "[0.95275444087384664, 0.86447381456421235, 0.89517151632780823, 0.77708871496985887, 0.94023856953328033, 0.7327387580875756, 0.92587506833388988, 0.88427248752843102, 0.90550888174769317, 0.83281653622739416, 0.88047713906656067, 0.83964325485254543, 0.87035925528956715, 0.87401184233025764, 0.94427217874246472, 0.84063618542208085, 0.95664450152379399, 0.94427217874246472, 0.88854435748492944, 0.84275727449171223, 0.82503644694405864]\n"
     ]
    }
   ],
   "source": [
    "from scipy import spatial\n",
    "cos_dist = list()\n",
    "for i in range(1, len(res)):\n",
    "    cos_dist.append(spatial.distance.cosine(matrix[0], matrix[i]))\n",
    "print cos_dist"
   ]
  },
  {
   "cell_type": "code",
   "execution_count": 8,
   "metadata": {
    "collapsed": false
   },
   "outputs": [
    {
     "name": "stdout",
     "output_type": "stream",
     "text": [
      "0.732738758088 0.77708871497 6 4\n"
     ]
    }
   ],
   "source": [
    "min1, min2 = 100., 100.\n",
    "min11, min22 = 0., 0.\n",
    "for i in range(0, len(res)-1):\n",
    "    if cos_dist[i] < min1:\n",
    "        min1, min2 = cos_dist[i], min1\n",
    "        min11, min22 = i + 1, min11\n",
    "    elif cos_dist[i] < min2:\n",
    "        min2 = cos_dist[i]\n",
    "        min22 = i + 1\n",
    "print min1, min2, min11, min22"
   ]
  },
  {
   "cell_type": "code",
   "execution_count": 10,
   "metadata": {
    "collapsed": true
   },
   "outputs": [],
   "source": [
    "with open('C:\\Users\\gost_\\Downloads\\submission-1.txt', 'w') as file_res:\n",
    "    file_res.write(str(min11) + ' ' + str(min22))\n",
    "sentences.close()"
   ]
  },
  {
   "cell_type": "code",
   "execution_count": null,
   "metadata": {
    "collapsed": true
   },
   "outputs": [],
   "source": []
  }
 ],
 "metadata": {
  "kernelspec": {
   "display_name": "Python 2",
   "language": "python",
   "name": "python2"
  },
  "language_info": {
   "codemirror_mode": {
    "name": "ipython",
    "version": 2
   },
   "file_extension": ".py",
   "mimetype": "text/x-python",
   "name": "python",
   "nbconvert_exporter": "python",
   "pygments_lexer": "ipython2",
   "version": "2.7.13"
  }
 },
 "nbformat": 4,
 "nbformat_minor": 2
}
