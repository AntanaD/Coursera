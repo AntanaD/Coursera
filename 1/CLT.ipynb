{
 "cells": [
  {
   "cell_type": "markdown",
   "metadata": {},
   "source": [
    "## Центральная предельная теорема\n",
    "Возьмем в качестве рассматриваемого непрерывного распределения распределение Парето. \n",
    "https://ru.wikipedia.org/wiki/%D0%A0%D0%B0%D1%81%D0%BF%D1%80%D0%B5%D0%B4%D0%B5%D0%BB%D0%B5%D0%BD%D0%B8%D0%B5_%D0%9F%D0%B0%D1%80%D0%B5%D1%82%D0%BE\n",
    "Импортируем необходимые библиотеки."
   ]
  },
  {
   "cell_type": "code",
   "execution_count": 39,
   "metadata": {
    "collapsed": true
   },
   "outputs": [],
   "source": [
    "import numpy as np\n",
    "import matplotlib.pyplot as plt\n",
    "import scipy.stats as sts\n",
    "import math"
   ]
  },
  {
   "cell_type": "markdown",
   "metadata": {},
   "source": [
    "Формируем с помощью функции pareto.rvs из scipy.stats выборку объема 1000 случайных значений. "
   ]
  },
  {
   "cell_type": "code",
   "execution_count": 40,
   "metadata": {
    "collapsed": false
   },
   "outputs": [],
   "source": [
    "sigma=3\n",
    "mu=0\n",
    "par= sts.pareto(sigma,mu)\n",
    "sample=par.rvs(1000)"
   ]
  },
  {
   "cell_type": "markdown",
   "metadata": {},
   "source": [
    "Строим график плотности распределения вероятностей для случайной выборки объема 1000 с помощью функции plt.hist с 30 интервалами.  Чтобы величины были в одном масштабе, выставляем у гистограммы значение параметра normed=true."
   ]
  },
  {
   "cell_type": "code",
   "execution_count": 41,
   "metadata": {
    "collapsed": false
   },
   "outputs": [
    {
     "data": {
      "text/plain": [
       "<matplotlib.text.Text at 0xad15f28>"
      ]
     },
     "execution_count": 41,
     "metadata": {},
     "output_type": "execute_result"
    },
    {
     "data": {
      "image/png": "[encoded data removed]",
      "text/plain": [
       "<matplotlib.figure.Figure at 0xabf2f98>"
      ]
     },
     "metadata": {},
     "output_type": "display_data"
    }
   ],
   "source": [
    "from matplotlib.pyplot import subplots\n",
    "fig, ax = subplots()\n",
    "plt.hist(sample, bins=30, normed=True, label='Experimental pdf')\n",
    "x = np.linspace(0,5,1000)\n",
    "pdf = par.pdf(x)\n",
    "plt.plot(x, pdf, color='green', label='Theoretical pdf')\n",
    "ax.set_xlabel('x')\n",
    "ax.set_ylabel('f(x)')"
   ]
  },
  {
   "cell_type": "markdown",
   "metadata": {},
   "source": [
    "Математическое ожидание (mj) и дисперсия (disp) распределения Парето считаются по формулам:\n",
    "$$ mj=\\frac{\\sigma\\mu}{(\\sigma-1)}$$\n",
    "$$ disp=(\\frac{\\mu}{\\sigma-1})^2(\\frac{\\sigma}{\\sigma-2})$$\n",
    "Находим их, используя стандартные функции mean() и var(), соответственно."
   ]
  },
  {
   "cell_type": "code",
   "execution_count": 42,
   "metadata": {
    "collapsed": false
   },
   "outputs": [
    {
     "name": "stdout",
     "output_type": "stream",
     "text": [
      "1.5 0.75\n"
     ]
    }
   ],
   "source": [
    "mj=par.mean()\n",
    "disp=par.var()\n",
    "print mj, disp"
   ]
  },
  {
   "cell_type": "markdown",
   "metadata": {},
   "source": [
    "Получаем функцию, принимающую на вход объем выборок и генерирующую 1000 выборок этого объема, после чего строящую соответствующие графики."
   ]
  },
  {
   "cell_type": "code",
   "execution_count": 43,
   "metadata": {
    "collapsed": false
   },
   "outputs": [],
   "source": [
    "def choice(n):\n",
    "    x = np.linspace(0,10,1000)\n",
    "    normal = sts.norm(mj,disp/n) #нормальное распределение\n",
    "    norm_pdf = normal.pdf(x)\n",
    "    means = []\n",
    "    for i in xrange(0,1000):\n",
    "        res = par.rvs(n)\n",
    "        means.append(res.mean()) \n",
    "    from matplotlib.pyplot import subplots\n",
    "    fig, ax = subplots()\n",
    "    plt.hist(means,normed = True)\n",
    "    plt.plot(x,norm_pdf)\n",
    "    ax.set_xlabel('x')\n",
    "    ax.set_ylabel('f(x)')"
   ]
  },
  {
   "cell_type": "markdown",
   "metadata": {},
   "source": [
    "Вызываем функцию для выборки объема 5"
   ]
  },
  {
   "cell_type": "code",
   "execution_count": 44,
   "metadata": {
    "collapsed": false
   },
   "outputs": [
    {
     "data": {
      "image/png": "[encoded data removed]",
      "text/plain": [
       "<matplotlib.figure.Figure at 0xaef63c8>"
      ]
     },
     "metadata": {},
     "output_type": "display_data"
    }
   ],
   "source": [
    "choice(5) "
   ]
  },
  {
   "cell_type": "markdown",
   "metadata": {},
   "source": [
    "Вызываем функцию для выборки объема 10"
   ]
  },
  {
   "cell_type": "code",
   "execution_count": 45,
   "metadata": {
    "collapsed": false
   },
   "outputs": [
    {
     "data": {
      "image/png": "[encoded data removed]",
      "text/plain": [
       "<matplotlib.figure.Figure at 0xad26240>"
      ]
     },
     "metadata": {},
     "output_type": "display_data"
    }
   ],
   "source": [
    "choice(10)"
   ]
  },
  {
   "cell_type": "markdown",
   "metadata": {},
   "source": [
    "Вызываем функцию для выборки объема 50"
   ]
  },
  {
   "cell_type": "code",
   "execution_count": 46,
   "metadata": {
    "collapsed": false
   },
   "outputs": [
    {
     "data": {
      "image/png": "[encoded data removed]",
      "text/plain": [
       "<matplotlib.figure.Figure at 0xad56860>"
      ]
     },
     "metadata": {},
     "output_type": "display_data"
    }
   ],
   "source": [
    "choice(50)"
   ]
  },
  {
   "cell_type": "markdown",
   "metadata": {},
   "source": [
    "### Вывод\n",
    "Как видно из графиков, при большом объеме выборок, распределение Парето может быть приближено нормальным распределением, т.е. центральная предельная теорема верна."
   ]
  }
 ],
 "metadata": {
  "kernelspec": {
   "display_name": "Python 2",
   "language": "python",
   "name": "python2"
  },
  "language_info": {
   "codemirror_mode": {
    "name": "ipython",
    "version": 2
   },
   "file_extension": ".py",
   "mimetype": "text/x-python",
   "name": "python",
   "nbconvert_exporter": "python",
   "pygments_lexer": "ipython2",
   "version": "2.7.13"
  }
 },
 "nbformat": 4,
 "nbformat_minor": 2
}
