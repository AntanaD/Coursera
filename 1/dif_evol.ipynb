{
 "cells": [
  {
   "cell_type": "code",
   "execution_count": 2,
   "metadata": {
    "collapsed": false
   },
   "outputs": [
    {
     "data": {
      "text/plain": [
       "     fun: 2.3150338432311584\n",
       "     jac: array([-0.64713763])\n",
       " message: 'Optimization terminated successfully.'\n",
       "    nfev: 109\n",
       "     nit: 6\n",
       " success: True\n",
       "       x: array([ 2.])"
      ]
     },
     "execution_count": 2,
     "metadata": {},
     "output_type": "execute_result"
    }
   ],
   "source": [
    "from scipy.optimize import differential_evolution\n",
    "import math\n",
    "import numpy as np\n",
    "x0=np.arange(1,30,1)\n",
    "bounds=[(1,2)]\n",
    "def f(x):\n",
    "    return math.sin(x / 5.) *math.exp(x / 10.) + 5 *math.exp(-x / 2.)\n",
    "differential_evolution(f,bounds)"
   ]
  },
  {
   "cell_type": "code",
   "execution_count": null,
   "metadata": {
    "collapsed": true
   },
   "outputs": [],
   "source": []
  }
 ],
 "metadata": {
  "kernelspec": {
   "display_name": "Python 2",
   "language": "python",
   "name": "python2"
  },
  "language_info": {
   "codemirror_mode": {
    "name": "ipython",
    "version": 2
   },
   "file_extension": ".py",
   "mimetype": "text/x-python",
   "name": "python",
   "nbconvert_exporter": "python",
   "pygments_lexer": "ipython2",
   "version": "2.7.13"
  }
 },
 "nbformat": 4,
 "nbformat_minor": 2
}
