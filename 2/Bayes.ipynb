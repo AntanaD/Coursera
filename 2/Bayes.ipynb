{
 "cells": [
  {
   "cell_type": "code",
   "execution_count": 20,
   "metadata": {
    "collapsed": false
   },
   "outputs": [
    {
     "name": "stdout",
     "output_type": "stream",
     "text": [
      "[  0.   0.  12.  10.   0.   0.   0.   0.   0.   0.  14.  16.  16.  14.   0.\n",
      "   0.   0.   0.  13.  16.  15.  10.   1.   0.   0.   0.  11.  16.  16.   7.\n",
      "   0.   0.   0.   0.   0.   4.   7.  16.   7.   0.   0.   0.   0.   0.   4.\n",
      "  16.   9.   0.   0.   0.   5.   4.  12.  16.   4.   0.   0.   0.   9.  16.\n",
      "  16.  10.   0.   0.] \n",
      "\n",
      "[  1.24500000e+01   1.57000000e+01   8.25700000e+01   4.77100000e+02\n",
      "   1.27800000e-01   1.70000000e-01   1.57800000e-01   8.08900000e-02\n",
      "   2.08700000e-01   7.61300000e-02   3.34500000e-01   8.90200000e-01\n",
      "   2.21700000e+00   2.71900000e+01   7.51000000e-03   3.34500000e-02\n",
      "   3.67200000e-02   1.13700000e-02   2.16500000e-02   5.08200000e-03\n",
      "   1.54700000e+01   2.37500000e+01   1.03400000e+02   7.41600000e+02\n",
      "   1.79100000e-01   5.24900000e-01   5.35500000e-01   1.74100000e-01\n",
      "   3.98500000e-01   1.24400000e-01]\n"
     ]
    }
   ],
   "source": [
    "from sklearn import datasets, cross_validation\n",
    "from sklearn.naive_bayes import BernoulliNB, MultinomialNB, GaussianNB\n",
    "import numpy as np\n",
    "digit=datasets.load_digits()\n",
    "cancer=datasets.load_breast_cancer()\n",
    "X_1=digit.data\n",
    "y_1=digit.target \n",
    "X_2=cancer.data\n",
    "y_2=cancer.target\n",
    "print X_1[5,:], '\\n'\n",
    "print X_2[5,:]"
   ]
  },
  {
   "cell_type": "code",
   "execution_count": 14,
   "metadata": {
    "collapsed": false
   },
   "outputs": [
    {
     "name": "stdout",
     "output_type": "stream",
     "text": [
      "Bernoulli_digit = 0.825823650778 ;  Bernoulli_cancer = 0.627420402859 \n",
      "\n",
      "Multinomial_digit = 0.870877148974 ;  Multinomial_cancer = 0.894579040193 \n",
      "\n",
      "Gaussian_digit = 0.818600380355 ;  Gaussian_cancer = 0.936749280609\n"
     ]
    }
   ],
   "source": [
    "Classificator_B=BernoulliNB()\n",
    "Classificator_M=MultinomialNB()\n",
    "Classificator_G=GaussianNB()\n",
    "\n",
    "Bernoulli_digit=cross_validation.cross_val_score(Classificator_B, X_1, y_1).mean()\n",
    "Bernoulli_cancer=cross_validation.cross_val_score(Classificator_B, X_2, y_2).mean()\n",
    "print 'Bernoulli_digit =', Bernoulli_digit, ';  Bernoulli_cancer =', Bernoulli_cancer, '\\n'\n",
    "\n",
    "Multinomial_digit=cross_validation.cross_val_score(Classificator_M, X_1, y_1).mean()\n",
    "Multinomial_cancer=cross_validation.cross_val_score(Classificator_M, X_2, y_2).mean()\n",
    "print 'Multinomial_digit =', Multinomial_digit, ';  Multinomial_cancer =', Multinomial_cancer, '\\n'\n",
    "\n",
    "Gaussian_digit=cross_validation.cross_val_score(Classificator_G, X_1, y_1).mean()\n",
    "Gaussian_cancer=cross_validation.cross_val_score(Classificator_G, X_2, y_2).mean()\n",
    "print 'Gaussian_digit =', Gaussian_digit, ';  Gaussian_cancer =', Gaussian_cancer"
   ]
  },
  {
   "cell_type": "markdown",
   "metadata": {},
   "source": [
    "### Вопросы\n",
    "1) 0.936749280609;\n",
    "2) 0.870877148974;\n",
    "3) 3 4  "
   ]
  }
 ],
 "metadata": {
  "kernelspec": {
   "display_name": "Python 2",
   "language": "python",
   "name": "python2"
  },
  "language_info": {
   "codemirror_mode": {
    "name": "ipython",
    "version": 2
   },
   "file_extension": ".py",
   "mimetype": "text/x-python",
   "name": "python",
   "nbconvert_exporter": "python",
   "pygments_lexer": "ipython2",
   "version": "2.7.13"
  }
 },
 "nbformat": 4,
 "nbformat_minor": 2
}
