{
 "cells": [
  {
   "cell_type": "code",
   "execution_count": 8,
   "metadata": {
    "collapsed": false
   },
   "outputs": [],
   "source": [
    "from sklearn import cross_validation, datasets, ensemble, metrics\n",
    "\n",
    "digit=datasets.load_digits()\n",
    "X=digit.data\n",
    "y=digit.target"
   ]
  },
  {
   "cell_type": "code",
   "execution_count": 9,
   "metadata": {
    "collapsed": true
   },
   "outputs": [],
   "source": [
    "X_train, X_test, y_train, y_test=cross_validation.train_test_split(X, y, test_size = 0.25)"
   ]
  },
  {
   "cell_type": "code",
   "execution_count": 10,
   "metadata": {
    "collapsed": true
   },
   "outputs": [],
   "source": [
    "def euclid(x1, x2):\n",
    "    return sum((x1-x2)**2)"
   ]
  },
  {
   "cell_type": "code",
   "execution_count": 11,
   "metadata": {
    "collapsed": true
   },
   "outputs": [],
   "source": [
    "minimum=[]\n",
    "for i in range(X_test.shape[0]):\n",
    "    pairs=[]\n",
    "    for j in range(X_train.shape[0]):\n",
    "        pairs.append((euclid(X_test[i,:], X_train[j,:]), y_train[j]))\n",
    "    minimum.append(min(pairs))"
   ]
  },
  {
   "cell_type": "code",
   "execution_count": 26,
   "metadata": {
    "collapsed": false
   },
   "outputs": [
    {
     "name": "stdout",
     "output_type": "stream",
     "text": [
      "Result = 0.98\n"
     ]
    }
   ],
   "source": [
    "yes=0.\n",
    "no=0.\n",
    "for i in range(len(minimum)):\n",
    "    _, comparing=minimum[i]\n",
    "    if y_test[i]==comparing:\n",
    "        yes+=1\n",
    "    else:\n",
    "        no+=1\n",
    "res=(yes/(yes+no))\n",
    "print 'Result =', res"
   ]
  },
  {
   "cell_type": "code",
   "execution_count": 27,
   "metadata": {
    "collapsed": false
   },
   "outputs": [
    {
     "name": "stdout",
     "output_type": "stream",
     "text": [
      "Score = 0.953333333333\n"
     ]
    }
   ],
   "source": [
    "classificator=ensemble.RandomForestClassifier(n_estimators = 1000)\n",
    "classificator1=classificator.fit(X_train, y_train)\n",
    "score=metrics.accuracy_score(y_test, classificator1.predict(X_test))\n",
    "print 'Score =', score"
   ]
  }
 ],
 "metadata": {
  "kernelspec": {
   "display_name": "Python 2",
   "language": "python",
   "name": "python2"
  },
  "language_info": {
   "codemirror_mode": {
    "name": "ipython",
    "version": 2
   },
   "file_extension": ".py",
   "mimetype": "text/x-python",
   "name": "python",
   "nbconvert_exporter": "python",
   "pygments_lexer": "ipython2",
   "version": "2.7.13"
  }
 },
 "nbformat": 4,
 "nbformat_minor": 2
}
